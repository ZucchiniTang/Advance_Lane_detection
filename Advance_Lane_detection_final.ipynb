{
 "cells": [
  {
   "cell_type": "code",
   "execution_count": 2,
   "metadata": {
    "collapsed": false
   },
   "outputs": [],
   "source": [
    "import numpy as np\n",
    "import cv2\n",
    "import matplotlib.pyplot as plt\n",
    "import matplotlib.image as mpimg\n",
    "%matplotlib inline\n",
    "import math\n",
    "import glob\n",
    "from ipywidgets import interact, interactive, fixed\n",
    "from moviepy.editor import VideoFileClip\n",
    "from IPython.display import HTML\n",
    "import pickle"
   ]
  },
  {
   "cell_type": "code",
   "execution_count": 3,
   "metadata": {
    "collapsed": false
   },
   "outputs": [],
   "source": [
    "#Compute the camera calibration matrix and distortion coefficients given a set of chessboard images\n",
    "%matplotlib qt\n",
    "#read in and make a list of calibration images\n",
    "images = glob.glob('camera_cal/calibration*.jpg')\n",
    "#img2 = img.copy()\n",
    "# Arrays to store object points and image points from all the images\n",
    "objpoints = [] # 3D points in real world space\n",
    "imgpoints = [] # 2D points in image plane\n",
    "# Prepare object points, like (0,0,0), (1,0,0), ... ,(8,5,0)\n",
    "objp = np.zeros((6*9,3), np.float32)\n",
    "objp[:,:2] = np.mgrid[0:9,0:6].T.reshape(-1,2) #np.mgrid to generate the coordinates that i want\n",
    "for fname in images:\n",
    "    # Read in each image\n",
    "    img2 = mpimg.imread(fname)\n",
    "                   \n",
    "    # Convert image to grayscale\n",
    "    gray = cv2.cvtColor(img2, cv2.COLOR_BGR2GRAY)\n",
    "    #####plt.imshow(img2)\n",
    "    # Find the chessboard corners\n",
    "    ret, corners = cv2.findChessboardCorners(gray, (9,6), None)\n",
    "\n",
    "    # If corners are found, add object points, image points\n",
    "    if ret == True:\n",
    "        imgpoints.append(corners)\n",
    "        objpoints.append(objp)\n",
    "        "
   ]
  },
  {
   "cell_type": "code",
   "execution_count": 4,
   "metadata": {
    "collapsed": false
   },
   "outputs": [
    {
     "data": {
      "text/plain": [
       "<matplotlib.text.Text at 0x7fc6ec143b70>"
      ]
     },
     "execution_count": 4,
     "metadata": {},
     "output_type": "execute_result"
    }
   ],
   "source": [
    "####################################   pickle  ##################################\n",
    "# Test undistortion on an image\n",
    "img = mpimg.imread('test_images/test2.jpg')\n",
    "img_size = (img.shape[1], img.shape[0])\n",
    "\n",
    "# Do camera calibration given object points and image points\n",
    "ret, mtx, dist, rvecs, tvecs = cv2.calibrateCamera(objpoints, imgpoints, img_size,None,None)\n",
    "dst = cv2.undistort(img, mtx, dist, None, mtx)\n",
    "\n",
    "# Save the camera calibration result for later use (we won't worry about rvecs / tvecs)\n",
    "dist_pickle = {}\n",
    "dist_pickle[\"mtx\"] = mtx\n",
    "dist_pickle[\"dist\"] = dist\n",
    "pickle.dump( dist_pickle, open( \"calibration.p\", \"wb\" ) )\n",
    "#dst = cv2.cvtColor(dst, cv2.COLOR_BGR2RGB)\n",
    "# Visualize undistortion\n",
    "f, (ax1, ax2) = plt.subplots(1, 2, figsize=(20,10))\n",
    "f.subplots_adjust(hspace = .2, wspace=.05)\n",
    "ax1.imshow(img)\n",
    "ax1.set_title('img', fontsize=30)\n",
    "ax2.imshow(dst)\n",
    "ax2.set_title('dst', fontsize=30)"
   ]
  },
  {
   "cell_type": "code",
   "execution_count": 5,
   "metadata": {
    "collapsed": false
   },
   "outputs": [
    {
     "data": {
      "text/plain": [
       "<matplotlib.text.Text at 0x7fc6df0dfa90>"
      ]
     },
     "execution_count": 5,
     "metadata": {},
     "output_type": "execute_result"
    }
   ],
   "source": [
    "# undistort image using camera calibration matrix from above\n",
    "def undistort(img):\n",
    "    undist = cv2.undistort(img, mtx, dist, None, mtx)\n",
    "    return undist\n",
    "undistorted = undistort(img)\n",
    "# Plot\n",
    "f, (ax1, ax2) = plt.subplots(1, 2, figsize=(20,10))\n",
    "f.subplots_adjust(hspace = .2, wspace=.05)\n",
    "ax1.imshow(img)\n",
    "ax1.set_title('img', fontsize=30)\n",
    "ax2.imshow(undistorted)\n",
    "ax2.set_title('undistorted', fontsize=30)\n"
   ]
  },
  {
   "cell_type": "code",
   "execution_count": 6,
   "metadata": {
    "collapsed": false
   },
   "outputs": [
    {
     "data": {
      "text/plain": [
       "<matplotlib.text.Text at 0x7fc6dec9dfd0>"
      ]
     },
     "execution_count": 6,
     "metadata": {},
     "output_type": "execute_result"
    }
   ],
   "source": [
    "def S_binary(image):\n",
    "    # Convert to HLS color space and separate the S channel\n",
    "    hls = cv2.cvtColor(image, cv2.COLOR_RGB2HLS)\n",
    "    s_channel = hls[:,:,2]\n",
    "    # Threshold x gradient\n",
    "    s_thresh_min = 170\n",
    "    s_thresh_max = 255\n",
    "    s_binary = np.zeros_like(s_channel)\n",
    "    s_binary[(s_channel >= s_thresh_min) & (s_channel <= s_thresh_max)] = 1\n",
    "    return s_binary\n",
    "\n",
    "def Sobel_edge(image):\n",
    "    # Grayscale image\n",
    "    gray = cv2.cvtColor(image, cv2.COLOR_RGB2GRAY)\n",
    "    # Sobel x\n",
    "    sobelx = cv2.Sobel(gray, cv2.CV_64F, 1, 0) # Take the derivative in x\n",
    "    abs_sobelx = np.absolute(sobelx) # Absolute x derivative to accentuate lines away from horizontal\n",
    "    scaled_sobel = np.uint8(255*abs_sobelx/np.max(abs_sobelx))\n",
    "    # Threshold color channel\n",
    "    thresh_min = 20\n",
    "    thresh_max = 100\n",
    "    sxbinary = np.zeros_like(scaled_sobel)\n",
    "    sxbinary[(scaled_sobel >= thresh_min) & (scaled_sobel <= thresh_max)] = 1\n",
    "    return sxbinary\n",
    "\n",
    "def combined_binary(image):\n",
    "    sxbinary = S_binary(image)\n",
    "    s_binary = Sobel_edge(image)\n",
    "    color_binary = np.dstack(( np.zeros_like(sxbinary), sxbinary, s_binary))\n",
    "    # Combine the two binary thresholds\n",
    "    combined_binary = np.zeros_like(sxbinary)\n",
    "    combined_binary[(sxbinary == 1) | (s_binary == 1)] = 1\n",
    "    return combined_binary\n",
    "\n",
    "com_img = combined_binary(undistorted)\n",
    "# Plot\n",
    "f, (ax1, ax2) = plt.subplots(1, 2, figsize=(20,10))\n",
    "f.subplots_adjust(hspace = .2, wspace=.05)\n",
    "ax1.imshow(undistorted)\n",
    "ax1.set_title('undistorted', fontsize=30)\n",
    "ax2.imshow(com_img, cmap = 'gray')\n",
    "ax2.set_title('com_img', fontsize=30)"
   ]
  },
  {
   "cell_type": "code",
   "execution_count": 7,
   "metadata": {
    "collapsed": false
   },
   "outputs": [
    {
     "data": {
      "text/plain": [
       "<matplotlib.text.Text at 0x7fc6de8332e8>"
      ]
     },
     "execution_count": 7,
     "metadata": {},
     "output_type": "execute_result"
    }
   ],
   "source": [
    "#Apply a perspective transform to rectify binary image (\"birds-eye view\")\n",
    "def persective_T(image):\n",
    "    src = np.float32([[694.339,455.755],[1085.14,717.653],[586.984,455.755],[220.927,717.653]])\n",
    "    dst = np.float32([[1113,0],[1136.927,717.653],[197,0],[220.927,717.653]])\n",
    "    M = cv2.getPerspectiveTransform(src, dst)\n",
    "    warped = cv2.warpPerspective(image, M, (1280,720))\n",
    "    return warped\n",
    "\n",
    "per_img = persective_T(com_img)\n",
    "# Plot\n",
    "f, (ax1, ax2) = plt.subplots(1, 2, figsize=(20,10))\n",
    "f.subplots_adjust(hspace = .2, wspace=.05)\n",
    "ax1.imshow(com_img, cmap = 'gray')\n",
    "ax1.set_title('com_img', fontsize=30)\n",
    "ax2.imshow(per_img, cmap = 'gray')\n",
    "ax2.set_title('per_img', fontsize=30)"
   ]
  },
  {
   "cell_type": "code",
   "execution_count": 8,
   "metadata": {
    "collapsed": false,
    "scrolled": true
   },
   "outputs": [
    {
     "data": {
      "text/plain": [
       "<matplotlib.text.Text at 0x7fc6de38f518>"
      ]
     },
     "execution_count": 8,
     "metadata": {},
     "output_type": "execute_result"
    }
   ],
   "source": [
    "# Take a histogram of the bottom half of the image\n",
    "def draw_line(image, origin_image):\n",
    "    histogram = np.sum(image[image.shape[0]//2:,:],axis=0)\n",
    "    # Create an output image to draw on and  visualize the result\n",
    "    out_img = np.dstack((image, image, image))*255\n",
    "    # he starting point for the left and right lines\n",
    "    midpoint = np.int(histogram.shape[0]/2)\n",
    "    leftx_base = np.argmax(histogram[:midpoint])\n",
    "    rightx_base = np.argmax(histogram[midpoint:]) + midpoint\n",
    "    # Choose the number of sliding windows\n",
    "    nwindows = 9\n",
    "    # Set height of windows\n",
    "    window_height = np.int(image.shape[0]/nwindows)\n",
    "    # Identify the x and y positions of all nonzero pixels in the image\n",
    "    nonzero = image.nonzero()\n",
    "    nonzeroy = np.array(nonzero[0])\n",
    "    nonzerox = np.array(nonzero[1])\n",
    "    # Current positions to be updated for each window\n",
    "    leftx_current = leftx_base\n",
    "    rightx_current = rightx_base\n",
    "    # Set the width of the windows +/- margin\n",
    "    margin = 100\n",
    "    # Set minimum number of pixels found to recenter window\n",
    "    minpix = 50\n",
    "    # Create empty lists to receive left and right lane pixel indices\n",
    "    left_lane_inds = []\n",
    "    right_lane_inds = []\n",
    "    # Step through the windows one by one\n",
    "    for window in range(nwindows):\n",
    "        # Identify window boundaries in x and y (and right and left)\n",
    "        win_y_low = image.shape[0] - (window+1)*window_height\n",
    "        win_y_high = image.shape[0] - window*window_height\n",
    "        win_xleft_low = leftx_current - margin\n",
    "        win_xleft_high = leftx_current + margin\n",
    "        win_xright_low = rightx_current - margin\n",
    "        win_xright_high = rightx_current + margin\n",
    "        # Draw the windows on the visualization image\n",
    "        #cv2.rectangle(out_img,(win_xleft_low,win_y_low),(win_xleft_high,win_y_high),(0,255,0), 2) \n",
    "        #cv2.rectangle(out_img,(win_xright_low,win_y_low),(win_xright_high,win_y_high),(0,255,0), 2) \n",
    "        # Identify the nonzero pixels in x and y within the window\n",
    "        good_left_inds = ((nonzeroy >= win_y_low) & (nonzeroy < win_y_high) & (nonzerox >= win_xleft_low) & (nonzerox < win_xleft_high)).nonzero()[0]\n",
    "        good_right_inds = ((nonzeroy >= win_y_low) & (nonzeroy < win_y_high) & (nonzerox >= win_xright_low) & (nonzerox < win_xright_high)).nonzero()[0]\n",
    "        # Append these indices to the lists\n",
    "        left_lane_inds.append(good_left_inds)\n",
    "        right_lane_inds.append(good_right_inds)\n",
    "        # If you found > minpix pixels, recenter next window on their mean position\n",
    "        if len(good_left_inds) > minpix:\n",
    "            leftx_current = np.int(np.mean(nonzerox[good_left_inds]))\n",
    "        if len(good_right_inds) > minpix:        \n",
    "            rightx_current = np.int(np.mean(nonzerox[good_right_inds]))\n",
    "    # Concatenate the arrays of indices\n",
    "    left_lane_inds = np.concatenate(left_lane_inds)\n",
    "    right_lane_inds = np.concatenate(right_lane_inds)\n",
    "    # Extract left and right line pixel positions\n",
    "    leftx = nonzerox[left_lane_inds]\n",
    "    lefty = nonzeroy[left_lane_inds] \n",
    "    rightx = nonzerox[right_lane_inds]\n",
    "    righty = nonzeroy[right_lane_inds] \n",
    "    # Fit a second order polynomial to each\n",
    "    left_fit = np.polyfit(lefty, leftx, 2)\n",
    "    right_fit = np.polyfit(righty, rightx, 2)\n",
    "   \n",
    "    # Visualization\n",
    "    ploty = np.linspace(0, image.shape[0]-1, image.shape[0] )\n",
    "    left_fitx = left_fit[0]*ploty**2 + left_fit[1]*ploty + left_fit[2]\n",
    "    right_fitx = right_fit[0]*ploty**2 + right_fit[1]*ploty + right_fit[2]\n",
    "    out_img[nonzeroy[left_lane_inds], nonzerox[left_lane_inds]] = [255, 0, 0]\n",
    "    out_img[nonzeroy[right_lane_inds], nonzerox[right_lane_inds]] = [0, 0, 255]\n",
    "    #plt.imshow(out_img)\n",
    "    #plt.plot(left_fitx, ploty, color='yellow')\n",
    "    #plt.plot(right_fitx, ploty, color='yellow')\n",
    "    #plt.xlim(0, 1280)\n",
    "    #plt.ylim(720, 0)\n",
    "\n",
    "# fit Line\n",
    "    window_img = np.zeros_like(out_img)\n",
    "    # And recast the x and y points into usable format for cv2.fillPoly()\n",
    "    left_line_window1 = np.array([np.transpose(np.vstack([left_fitx-margin, ploty]))])\n",
    "    left_line_window2 = np.array([np.flipud(np.transpose(np.vstack([left_fitx+margin, ploty])))])\n",
    "    left_line_pts = np.hstack((left_line_window1, left_line_window2))\n",
    "    right_line_window1 = np.array([np.transpose(np.vstack([right_fitx-margin, ploty]))])\n",
    "    right_line_window2 = np.array([np.flipud(np.transpose(np.vstack([right_fitx+margin, ploty])))])\n",
    "    right_line_pts = np.hstack((right_line_window1, right_line_window2))\n",
    "#draw the lane onto the warped blank image\n",
    "    cv2.fillPoly(window_img, np.int_([left_line_pts]), (0,255, 0))\n",
    "    cv2.fillPoly(window_img, np.int_([right_line_pts]), (0,255, 0))\n",
    "    result = cv2.addWeighted(out_img, 1, window_img, 0.3, 0)\n",
    "    #plt.imshow(result)\n",
    "    \n",
    "    \n",
    "    image_zero = np.zeros_like(image).astype(np.uint8)\n",
    "    color_image = np.dstack((image_zero, image_zero, image_zero))\n",
    "\n",
    "    # Recast the x and y points into usable format for cv2.fillPoly()\n",
    "    pts_left = np.array([np.transpose(np.vstack([left_fitx, ploty]))])\n",
    "    pts_right = np.array([np.flipud(np.transpose(np.vstack([right_fitx, ploty])))])\n",
    "    pts = np.hstack((pts_left, pts_right))\n",
    "    # src and dst\n",
    "    src = np.float32([[694.339,455.755],[1085.14,717.653],[586.984,455.755],[220.927,717.653]])\n",
    "    dst = np.float32([[1113,0],[1136.927,717.653],[197,0],[220.927,717.653]])\n",
    "\n",
    "    # Draw the lane onto the warped blank image\n",
    "    cv2.fillPoly(color_image, np.int_([pts]), (0,255, 0))\n",
    "    Minv = cv2.getPerspectiveTransform(dst, src)\n",
    "    # Warp the blank back to original image space using inverse perspective matrix (Minv)\n",
    "    newwarp = cv2.warpPerspective(color_image, Minv, (1280,720)) \n",
    "    # Combine the result with the original image\n",
    "    #result = weighted_img(newwarp, image, α=0.8, β=1, λ=0)\n",
    "    result = cv2.addWeighted(origin_image, 1, newwarp, 0.3, 0)\n",
    "    #plt.imshow(warp_zero)\n",
    "    #plt.imshow(color_warp)\n",
    "    #plt.imshow(newwarp)\n",
    "    #plt.imshow(result)\n",
    "\n",
    "    return left_fit, right_fit, left_lane_inds, right_lane_inds, result \n",
    "#img4, left_curverad, right_curverad, veh_pis_left_pixel, veh_pis_left_pixe = draw_line(per_img,img3)\n",
    "\n",
    "left_fit, right_fit, left_lane_inds, right_lane_inds, draw_line_1 = draw_line(per_img, img)\n",
    "# Plot\n",
    "f, (ax1, ax2) = plt.subplots(1, 2, figsize=(20,10))\n",
    "f.subplots_adjust(hspace = .2, wspace=.05)\n",
    "ax1.imshow(per_img, cmap = 'gray')\n",
    "ax1.set_title('per_img', fontsize=30)\n",
    "ax2.imshow(draw_line_1, cmap = 'gray')\n",
    "ax2.set_title('draw_line_1', fontsize=30)"
   ]
  },
  {
   "cell_type": "code",
   "execution_count": 9,
   "metadata": {
    "collapsed": true
   },
   "outputs": [],
   "source": [
    "#### Curvature world_space\n",
    "#    left_y_eval = np.max(lefty)\n",
    "#    right_y_eval = np.max(righty)\n",
    "#    ym_per_pix = 25/720 # meters per pixel in y dimension\n",
    "#    xm_per_pix = 3.7/((rightx[len(rightx)-1])-(leftx[len(leftx)-1])) # meters per pixel in x dimension\n",
    "\n",
    "####    # Fit new polynomials to x,y in world space\n",
    "#    left_fit_cr = np.polyfit(lefty*ym_per_pix, leftx*xm_per_pix, 2)\n",
    "#    right_fit_cr = np.polyfit(righty*ym_per_pix, rightx*xm_per_pix, 2)\n",
    "    # Calculate the new radii of curvature\n",
    "#    left_curverad = ((1 + (2*left_fit_cr[0]*left_y_eval*ym_per_pix + left_fit_cr[1])**2)**1.5) / np.absolute(2*left_fit_cr[0])\n",
    "#    right_curverad = ((1 + (2*right_fit_cr[0]*right_y_eval*ym_per_pix + right_fit_cr[1])**2)**1.5) / np.absolute(2*right_fit_cr[0])\n",
    "    #print('Curvature in world_space:',left_curverad, 'm', right_curverad, 'm')\n",
    "    #print()\n",
    "#The position of the vehicle with respect to center\n",
    "#    veh_posit = 1280/2 # middle of image, x axels\n",
    "    #np.average(right_fitx-left_fitx)\n",
    "#    veh_pis_left_pixel = np.abs((leftx[len(leftx)-1])-veh_posit) \n",
    "#    veh_pis_right_pixel = np.abs((rightx[len(rightx)-1])-veh_posit)\n",
    "#   veh_pis_left_real = veh_pis_left_pixel * xm_per_pix\n",
    "#   veh_pis_right_real = veh_pis_right_pixel * xm_per_pix\n",
    "#   #print()\n",
    "#    #print('The position of the vehicle with respect to center:',veh_pis_left_real, 'm', veh_pis_right_real, 'm')\n",
    "    "
   ]
  },
  {
   "cell_type": "code",
   "execution_count": 10,
   "metadata": {
    "collapsed": false
   },
   "outputs": [],
   "source": [
    "# Method to determine radius of curvature and distance from lane center \n",
    "# based on binary image, polynomial fit, and L and R lane pixel indices\n",
    "def calc_curv_rad_and_center_dist(bin_img, l_fit, r_fit, l_lane_inds, r_lane_inds):\n",
    "    # Define conversions in x and y from pixels space to meters\n",
    "    h = bin_img.shape[0]\n",
    "    l_fit_x_int = l_fit[0]*h**2 + l_fit[1]*h + l_fit[2]\n",
    "    r_fit_x_int = r_fit[0]*h**2 + r_fit[1]*h + r_fit[2]\n",
    "    lane_width = np.absolute(l_fit_x_int - r_fit_x_int)\n",
    "    ym_per_pix = 30/720 # meters per pixel in y dimension, lane line is 10 ft = 3.048 meters\n",
    "    xm_per_pix = 3.7/lane_width # meters per pixel in x dimension, lane width is 12 ft = 3.7 meters\n",
    "    #ym_per_pix = 3.048/100 # meters per pixel in y dimension, lane line is 10 ft = 3.048 meters\n",
    "    #xm_per_pix = 3.7/378 # meters per pixel in x dimension, lane width is 12 ft = 3.7 meters\n",
    "    left_curverad, right_curverad, center_dist = (0, 0, 0)\n",
    "    # Define y-value where we want radius of curvature\n",
    "    # I'll choose the maximum y-value, corresponding to the bottom of the image\n",
    "    h = bin_img.shape[0]\n",
    "    ploty = np.linspace(0, h-1, h)\n",
    "  \n",
    "    # Identify the x and y positions of all nonzero pixels in the image\n",
    "    nonzero = bin_img.nonzero()\n",
    "    nonzeroy = np.array(nonzero[0])\n",
    "    nonzerox = np.array(nonzero[1])\n",
    "    # Again, extract left and right line pixel positions\n",
    "    leftx = nonzerox[l_lane_inds]\n",
    "    lefty = nonzeroy[l_lane_inds] \n",
    "    rightx = nonzerox[r_lane_inds]\n",
    "    righty = nonzeroy[r_lane_inds]\n",
    "    left_y_eval = np.max(lefty)\n",
    "    right_y_eval = np.max(righty)\n",
    "    \n",
    "    if len(leftx) != 0 and len(rightx) != 0:\n",
    "        # Fit new polynomials to x,y in world space\n",
    "        left_fit_cr = np.polyfit(lefty*ym_per_pix, leftx*xm_per_pix, 2)\n",
    "        right_fit_cr = np.polyfit(righty*ym_per_pix, rightx*xm_per_pix, 2)\n",
    "        # Calculate the new radii of curvature\n",
    "        left_curverad = ((1 + (2*left_fit_cr[0]*left_y_eval*ym_per_pix + left_fit_cr[1])**2)**1.5) / np.absolute(2*left_fit_cr[0])\n",
    "        right_curverad = ((1 + (2*right_fit_cr[0]*right_y_eval*ym_per_pix + right_fit_cr[1])**2)**1.5) / np.absolute(2*right_fit_cr[0])\n",
    "        # Now our radius of curvature is in meters\n",
    "    \n",
    "    \n",
    "    ####    # Fit new polynomials to x,y in world space\n",
    "#    left_fit_cr = np.polyfit(lefty*ym_per_pix, leftx*xm_per_pix, 2)\n",
    "#    right_fit_cr = np.polyfit(righty*ym_per_pix, rightx*xm_per_pix, 2)\n",
    "    # Calculate the new radii of curvature\n",
    "#    left_curverad = ((1 + (2*left_fit_cr[0]*left_y_eval*ym_per_pix + left_fit_cr[1])**2)**1.5) / np.absolute(2*left_fit_cr[0])\n",
    "#    right_curverad = ((1 + (2*right_fit_cr[0]*right_y_eval*ym_per_pix + right_fit_cr[1])**2)**1.5) / np.absolute(2*right_fit_cr[0])\n",
    "    \n",
    "    \n",
    "    \n",
    "    # Distance from center is image x midpoint - mean of l_fit and r_fit intercepts \n",
    "    if r_fit is not None and l_fit is not None:\n",
    "        car_position =  bin_img.shape[1]/2\n",
    "        lane_center_position = (r_fit_x_int + l_fit_x_int) /2\n",
    "        center_dist = (car_position - lane_center_position) * xm_per_pix\n",
    "    return left_curverad, right_curverad, center_dist"
   ]
  },
  {
   "cell_type": "code",
   "execution_count": 11,
   "metadata": {
    "collapsed": false
   },
   "outputs": [
    {
     "name": "stdout",
     "output_type": "stream",
     "text": [
      "Radius of curvature for example: 468.700833304 m, 380.573821861 m\n",
      "Distance from lane center for example: -0.450117922977 m\n"
     ]
    }
   ],
   "source": [
    "rad_l, rad_r, d_center = calc_curv_rad_and_center_dist(per_img, left_fit, right_fit, left_lane_inds, right_lane_inds)\n",
    "print('Radius of curvature for example:', rad_l, 'm,', rad_r, 'm')\n",
    "print('Distance from lane center for example:', d_center, 'm')"
   ]
  },
  {
   "cell_type": "code",
   "execution_count": 12,
   "metadata": {
    "collapsed": false
   },
   "outputs": [],
   "source": [
    "##############  Draw Curvature Radius and Distance from Center Data onto the Original Image  ##################3\n",
    "\n",
    "def draw_data(original_img, curv_rad, center_dist):\n",
    "    new_img = np.copy(original_img)\n",
    "    h = new_img.shape[0]\n",
    "    font = cv2.FONT_HERSHEY_DUPLEX\n",
    "    text = 'Curve radius: ' + '{:04.2f}'.format(curv_rad) + 'm'\n",
    "    cv2.putText(new_img, text, (40,70), font, 1.5, (200,255,155), 2, cv2.LINE_AA)\n",
    "    direction = ''\n",
    "    if center_dist > 0:\n",
    "        direction = 'right'\n",
    "    elif center_dist < 0:\n",
    "        direction = 'left'\n",
    "    abs_center_dist = abs(center_dist)\n",
    "    text = '{:04.3f}'.format(abs_center_dist) + 'm ' + direction + ' of center'\n",
    "    cv2.putText(new_img, text, (40,120), font, 1.5, (200,255,155), 2, cv2.LINE_AA)\n",
    "    return new_img"
   ]
  },
  {
   "cell_type": "code",
   "execution_count": 13,
   "metadata": {
    "collapsed": false,
    "scrolled": true
   },
   "outputs": [
    {
     "data": {
      "text/plain": [
       "<matplotlib.image.AxesImage at 0x7fc6de301dd8>"
      ]
     },
     "execution_count": 13,
     "metadata": {},
     "output_type": "execute_result"
    }
   ],
   "source": [
    "draw_data_1 = draw_data(draw_line_1, (rad_l+rad_r)/2, d_center)\n",
    "plt.imshow(draw_data_1)"
   ]
  },
  {
   "cell_type": "code",
   "execution_count": 14,
   "metadata": {
    "collapsed": false,
    "scrolled": true
   },
   "outputs": [
    {
     "data": {
      "text/plain": [
       "<matplotlib.image.AxesImage at 0x7fc6de3093c8>"
      ]
     },
     "execution_count": 14,
     "metadata": {},
     "output_type": "execute_result"
    }
   ],
   "source": [
    "def process_image(origin_image):\n",
    "    \n",
    "    undistorted = undistort(origin_image)\n",
    "    com_img = combined_binary(undistorted)\n",
    "    per_img = persective_T(com_img)\n",
    "    left_fit, right_fit, left_lane_inds, right_lane_inds, draw_line_1 = draw_line(per_img, origin_image)\n",
    "    rad_l, rad_r, d_center = calc_curv_rad_and_center_dist(per_img, left_fit, right_fit, left_lane_inds, right_lane_inds)\n",
    "    #print(rad_l, rad_r, d_center, draw_line_1)\n",
    "    result = draw_data(draw_line_1, (rad_l+rad_r)/2, d_center)\n",
    "    \n",
    "    return result\n",
    "    #return 0 \n",
    "img5 = process_image(img)\n",
    "plt.imshow(img5)"
   ]
  },
  {
   "cell_type": "code",
   "execution_count": 15,
   "metadata": {
    "collapsed": false,
    "scrolled": false
   },
   "outputs": [
    {
     "name": "stdout",
     "output_type": "stream",
     "text": [
      "[MoviePy] >>>> Building video test_videos_output/project_video.mp4\n",
      "[MoviePy] Writing video test_videos_output/project_video.mp4\n"
     ]
    },
    {
     "name": "stderr",
     "output_type": "stream",
     "text": [
      "100%|█████████▉| 1260/1261 [02:24<00:00,  8.68it/s]\n"
     ]
    },
    {
     "name": "stdout",
     "output_type": "stream",
     "text": [
      "[MoviePy] Done.\n",
      "[MoviePy] >>>> Video ready: test_videos_output/project_video.mp4 \n",
      "\n",
      "CPU times: user 8min 1s, sys: 2.81 s, total: 8min 4s\n",
      "Wall time: 2min 25s\n"
     ]
    }
   ],
   "source": [
    "# video\n",
    "white_output = 'test_videos_output/project_video.mp4'\n",
    "## To speed up the testing process you may want to try your pipeline on a shorter subclip of the video\n",
    "## To do so add .subclip(start_second,end_second) to the end of the line below\n",
    "## Where start_second and end_second are integer values representing the start and end of the subclip\n",
    "## You may also uncomment the following line for a subclip of the first 5 seconds\n",
    "##clip1 = VideoFileClip(\"project_video.mp4\").subclip(0,10)\n",
    "clip1 = VideoFileClip(\"project_video.mp4\")\n",
    "white_clip = clip1.fl_image(process_image) #NOTE: this function expects color images!!\n",
    "%time white_clip.write_videofile(white_output, audio=False)"
   ]
  },
  {
   "cell_type": "code",
   "execution_count": null,
   "metadata": {
    "collapsed": true
   },
   "outputs": [],
   "source": []
  }
 ],
 "metadata": {
  "kernelspec": {
   "display_name": "Python 3",
   "language": "python",
   "name": "python3"
  },
  "language_info": {
   "codemirror_mode": {
    "name": "ipython",
    "version": 3
   },
   "file_extension": ".py",
   "mimetype": "text/x-python",
   "name": "python",
   "nbconvert_exporter": "python",
   "pygments_lexer": "ipython3",
   "version": "3.5.2"
  }
 },
 "nbformat": 4,
 "nbformat_minor": 2
}
